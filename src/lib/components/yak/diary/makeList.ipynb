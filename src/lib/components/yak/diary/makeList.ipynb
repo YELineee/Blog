{
 "cells": [
  {
   "cell_type": "code",
   "execution_count": 25,
   "metadata": {},
   "outputs": [],
   "source": [
    "import os\n",
    "import json"
   ]
  },
  {
   "cell_type": "code",
   "execution_count": 26,
   "metadata": {},
   "outputs": [],
   "source": [
    "md_dict = {}\n",
    "md_files = [\"./diaryList/\" + file for file in os.listdir(\"./diaryList\") if file.endswith(\".md\")]  "
   ]
  },
  {
   "cell_type": "code",
   "execution_count": 27,
   "metadata": {},
   "outputs": [],
   "source": [
    "for md_file in md_files:\n",
    "    with open(md_file, \"r\") as f:\n",
    "        content = f.read()\n",
    "        title = md_file.split('/')[2].split('.md')[0]\n",
    "    md_dict[md_file] = {\"name\": title, \"content\": content}\n",
    "\n",
    "with open(\"md_files.json\", \"w\") as f:\n",
    "    json.dump(md_dict, f, indent=4)\n"
   ]
  }
 ],
 "metadata": {
  "kernelspec": {
   "display_name": "Python 3",
   "language": "python",
   "name": "python3"
  },
  "language_info": {
   "codemirror_mode": {
    "name": "ipython",
    "version": 3
   },
   "file_extension": ".py",
   "mimetype": "text/x-python",
   "name": "python",
   "nbconvert_exporter": "python",
   "pygments_lexer": "ipython3",
   "version": "3.11.7"
  }
 },
 "nbformat": 4,
 "nbformat_minor": 2
}
